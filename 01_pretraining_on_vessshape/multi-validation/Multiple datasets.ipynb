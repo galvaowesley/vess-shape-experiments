{
 "cells": [
  {
   "cell_type": "code",
   "execution_count": 2,
   "metadata": {
    "ExecuteTime": {
     "end_time": "2025-04-09T02:46:01.948232Z",
     "start_time": "2025-04-09T02:36:40.275833Z"
    }
   },
   "outputs": [
    {
     "name": "stdout",
     "output_type": "stream",
     "text": [
      "Setting up the experiment...\n",
      "Found 70000 image files.\n",
      "Found 70000 label files.\n",
      "Using file-based split strategy with train.csv, val.csv and test.csv.\n",
      "Training samples: 10575\n",
      "Validation samples: 8925\n",
      "Test samples: 201\n",
      "Setting transformations.\n",
      "Dataset built successfully.\n",
      "Carregando modelo 'resnet18_unet' via VessShapeTrainer.get_model()...\n",
      "Done setting up.\n",
      "Training has started\n"
     ]
    },
    {
     "name": "stderr",
     "output_type": "stream",
     "text": [
      "Epochs: 100%|\u001b[34m██████████\u001b[0m| 2/2 [00:40<00:00, 20.10s/epochs, Train loss=0.446, Val loss VessShape=1.88, Val loss VessMAP=0.709]\n"
     ]
    },
    {
     "data": {
      "text/html": [],
      "text/plain": [
       "<IPython.core.display.HTML object>"
      ]
     },
     "metadata": {},
     "output_type": "display_data"
    },
    {
     "name": "stdout",
     "output_type": "stream",
     "text": [
      "Training has finished\n"
     ]
    }
   ],
   "source": [
    "from train import MultiTrainer\n",
    "\n",
    "# The parameters below reproduce those used in the lwnet paper\n",
    "params = {\n",
    "    \"experiment_name\": \"resnet18_unet_auto_vess_shape_hiperparam_tuning\",\n",
    "    \"run_name\": \"ts:5k_bs-train:200_ep:25_lr:0.001_lr-decay:1.0_wd:0.0_opt:adam_FP16\",\n",
    "    \"validate_every\": 1,\n",
    "    \"save_val_imgs\": \"\",\n",
    "    \"val_img_indices\": \"0 1 2 3\",\n",
    "    \"dataset_path\": \"/media/wesleygalvao/1_TB_LINUX/Datasets/blood_vessels/\",\n",
    "    \"dataset_class\": \"multiple\",\n",
    "    \"model_class\": \"resnet18_unet\",\n",
    "    \"num_epochs\": 2,\n",
    "    \"validation_metric\": \"Val loss VessMAP\",\n",
    "    #\"maximize_validation_metric\": \"\",\n",
    "    \"bs_train\": 200,\n",
    "    \"bs_valid\": 64,\n",
    "    \"weight_decay\": 0.0,\n",
    "    \"lr\": 0.001,\n",
    "    # \"lr_decay\": 0.0,\n",
    "    \"optimizer\": \"adam\",\n",
    "    \"num_workers\": 8,\n",
    "    \"log_wandb\": \"\",\n",
    "    \"wandb_project\": \"resnet18_unet_auto_vess_shape_hiperparam_tuning\"\n",
    "}\n",
    "\n",
    "runner = MultiTrainer(params).fit()\n"
   ]
  },
  {
   "cell_type": "code",
   "execution_count": null,
   "metadata": {},
   "outputs": [],
   "source": [
    "path = '/media/wesleygalvao/1_TB_LINUX/Datasets/ImageNet/ILSVRC2012_img_val/'"
   ]
  }
 ],
 "metadata": {
  "kernelspec": {
   "display_name": "mestrado_env",
   "language": "python",
   "name": "python3"
  },
  "language_info": {
   "codemirror_mode": {
    "name": "ipython",
    "version": 3
   },
   "file_extension": ".py",
   "mimetype": "text/x-python",
   "name": "python",
   "nbconvert_exporter": "python",
   "pygments_lexer": "ipython3",
   "version": "3.12.8"
  }
 },
 "nbformat": 4,
 "nbformat_minor": 2
}
